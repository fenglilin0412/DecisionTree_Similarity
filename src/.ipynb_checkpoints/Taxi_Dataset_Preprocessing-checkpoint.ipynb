{
 "cells": [
  {
   "cell_type": "markdown",
   "metadata": {},
   "source": [
    "## Preprocessing script of Taxi dataset"
   ]
  },
  {
   "cell_type": "code",
   "execution_count": 1,
   "metadata": {},
   "outputs": [],
   "source": [
    "import pandas as pd"
   ]
  },
  {
   "cell_type": "code",
   "execution_count": 3,
   "metadata": {},
   "outputs": [
    {
     "name": "stdout",
     "output_type": "stream",
     "text": [
      "Saved to ./data/yellow_test.csv\n"
     ]
    }
   ],
   "source": [
    "yellow = pd.read_csv(\"../data/yellow.csv\")\n",
    "yellow.columns = yellow.columns[1:].insert(0, \"timestamp\")\n",
    "yellow.timestamp = pd.to_datetime(yellow.timestamp, utc=True)\n",
    "yellow.set_index(\"timestamp\", drop=True, inplace=True)\n",
    "yellow.index = yellow.index.tz_convert(\"America/New_York\")\n",
    "\n",
    "# select 5 zones for test\n",
    "selected_zones = [7, 145, 146, 193, 226] # Modify this list to fit your needs\n",
    "selected_zones_str = [str(z) for z in selected_zones]\n",
    "\n",
    "columns = [\"timezone\"] + selected_zones_str\n",
    "yellow = yellow[columns]\n",
    "\n",
    "start = pd.to_datetime(\"2017-12-04 00:00\")\n",
    "train = yellow[:start]\n",
    "test = yellow[start:pd.to_datetime(\"2017-12-17 23:00\")]\n",
    "\n",
    "test.to_csv(\"../data/yellow_test.csv\")\n",
    "print(\"Saved to ../data/yellow_test.csv\")"
   ]
  },
  {
   "cell_type": "code",
   "execution_count": null,
   "metadata": {},
   "outputs": [],
   "source": []
  }
 ],
 "metadata": {
  "kernelspec": {
   "display_name": "Python 3",
   "language": "python",
   "name": "python3"
  },
  "language_info": {
   "codemirror_mode": {
    "name": "ipython",
    "version": 3
   },
   "file_extension": ".py",
   "mimetype": "text/x-python",
   "name": "python",
   "nbconvert_exporter": "python",
   "pygments_lexer": "ipython3",
   "version": "3.7.3"
  }
 },
 "nbformat": 4,
 "nbformat_minor": 2
}
